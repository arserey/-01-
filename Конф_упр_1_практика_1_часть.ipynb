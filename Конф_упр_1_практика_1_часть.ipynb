{
  "nbformat": 4,
  "nbformat_minor": 0,
  "metadata": {
    "colab": {
      "provenance": []
    },
    "kernelspec": {
      "name": "python3",
      "display_name": "Python 3"
    },
    "language_info": {
      "name": "python"
    }
  },
  "cells": [
    {
      "cell_type": "markdown",
      "source": [
        "Задание №1"
      ],
      "metadata": {
        "id": "Adpjt-eoY-Xp"
      }
    },
    {
      "cell_type": "code",
      "execution_count": null,
      "metadata": {
        "id": "aUQazjmrY63R"
      },
      "outputs": [],
      "source": [
        "grep '.*' /etc/passwd | cut -d: -f1 | sort"
      ]
    },
    {
      "cell_type": "markdown",
      "source": [
        "grep '.*' /etc/passwd: Эта команда выводит все строки из файла /etc/passwd. Шаблон '.*' в grep означает \"любой текст\", и по сути, это эквивалент просто вывода всего содержимого файла.\n",
        "\n",
        "cut -d: -f1: Команда cut разделяет строки по указанному разделителю (в данном случае :) и выводит только первую часть строки.\n",
        "Разделителем является двоеточие (:), и первая часть строки — это имя пользователя. Таким образом, cut -d: -f1 выводит список всех имен пользователей.\n",
        "\n",
        "sort: Эта команда сортирует строки по алфавиту.\n",
        "\n"
      ],
      "metadata": {
        "id": "LrKxqP2KnKwx"
      }
    },
    {
      "cell_type": "markdown",
      "source": [
        "Задание №2"
      ],
      "metadata": {
        "id": "IiFF-gqBZC5N"
      }
    },
    {
      "cell_type": "code",
      "source": [
        "awk '{print $2, $1}' /etc/protocols | sort -nr | head -n 5"
      ],
      "metadata": {
        "id": "DisRf2dPZGfy"
      },
      "execution_count": null,
      "outputs": []
    },
    {
      "cell_type": "markdown",
      "source": [
        "Awk - в данном случае он читает строки из файла /etc/protocols и выводит значения из двух полей: второе поле выводится первым, а первое — вторым.\n",
        "\n",
        "sort -nr сортирует строки по числовому значению (ключ -n) в обратном порядке (ключ -r). Это значит, что строки будут отсортированы по убыванию значений номеров протоколов (то есть второго поля).\n",
        "\n",
        "head -n 5 выводит первые 5 строк из результата предыдущих команд. Таким образом, из отсортированного списка протоколов будут выбраны только пять первых строк.\n"
      ],
      "metadata": {
        "id": "iegOJGSnnKiv"
      }
    },
    {
      "cell_type": "markdown",
      "source": [
        "Задание №3"
      ],
      "metadata": {
        "id": "OJU60MvLZG4l"
      }
    },
    {
      "cell_type": "code",
      "source": [
        "#!/bin/bash\n",
        "\n",
        "text=$*\n",
        "length=${#text}\n",
        "\n",
        "for i in $(seq 1 $((length + 2))); do\n",
        "    line+=\"-\"\n",
        "done\n",
        "\n",
        "echo \"+${line}+\"\n",
        "echo \"| ${text} |\"\n",
        "echo \"+${line}+\""
      ],
      "metadata": {
        "id": "090mZM2yZIsd"
      },
      "execution_count": null,
      "outputs": []
    },
    {
      "cell_type": "markdown",
      "source": [
        "text=$*:\n",
        "\n",
        "Эта команда сохраняет все аргументы командной строки в переменную text. Переменная $* объединяет все аргументы в одну строку, разделенную пробелами.\n",
        "\n",
        "length=${#text}:\n",
        "\n",
        "Здесь вычисляется длина строки, содержащей все аргументы, и сохраняется в переменной length. Это делается с помощью ${#text}, который возвращает количество символов в переменной text.\n",
        "\n",
        "for i in $(seq 1 $((length + 2))); do:\n",
        "\n",
        "Этот цикл for создаёт линию из символов -. Команда seq 1 $((length + 2)) генерирует последовательность чисел от 1 до (length + 2), где length — это длина текста, а 2 добавляется для учёта пробелов и символов | с обеих сторон текста.\n"
      ],
      "metadata": {
        "id": "haANEJKPo0MX"
      }
    },
    {
      "cell_type": "markdown",
      "source": [
        "Задание №4"
      ],
      "metadata": {
        "id": "RtOciDVHZJQz"
      }
    },
    {
      "cell_type": "code",
      "source": [
        "#!/bin/bash\n",
        "\n",
        "file=\"$1\"\n",
        "\n",
        "id=$(grep -o -E '\\b[a-zA-Z]*\\b' \"$file\" | sort -u)\n"
      ],
      "metadata": {
        "id": "9FxsjfcMZK5S"
      },
      "execution_count": null,
      "outputs": []
    },
    {
      "cell_type": "markdown",
      "source": [
        "file=\"$1\":\n",
        "Эта строка присваивает переменной file значение первого аргумента командной строки (путь к файлу). Таким образом, файл, который нужно обработать, передается в скрипт как аргумент.\n",
        "\n",
        "id=$(grep -o -E '\\b[a-zA-Z]*\\b' \"$file\" | sort -u):\n",
        "grep -o -E '\\b[a-zA-Z]*\\b' \"$file\":\n",
        "grep — команда для поиска строк, соответствующих заданному регулярному выражению.\n",
        "Опция -o указывает, что нужно вывести только совпадения, а не всю строку.\n",
        "Опция -E включает использование расширенных регулярных выражений.\n",
        "Регулярное выражение \\b[a-zA-Z]*\\b ищет слова, состоящие из символов латинского алфавита. Вот что это выражение означает:\n",
        "\\b — граница слова.\n",
        "[a-zA-Z]* — любое количество (включая ноль) символов от \"a\" до \"z\" (как строчные, так и заглавные буквы).\n",
        "\n",
        "В результате grep находит и выводит все слова (последовательности букв), присутствующие в файле.\n"
      ],
      "metadata": {
        "id": "q1N-RCzipJd-"
      }
    },
    {
      "cell_type": "markdown",
      "source": [
        "Задание №5"
      ],
      "metadata": {
        "id": "R7f4BIRgZLTO"
      }
    },
    {
      "cell_type": "code",
      "source": [
        "#!/bin/bash\n",
        "\n",
        "file=$1\n",
        "\n",
        "chmod 755 \"./$file\"\n",
        "\n",
        "sudo cp \"$file\" /usr/local/bin/"
      ],
      "metadata": {
        "id": "1D9Sy8TXZMlz"
      },
      "execution_count": null,
      "outputs": []
    },
    {
      "cell_type": "markdown",
      "source": [
        "Команда chmod 755 изменяет права доступа к файлу.\n",
        "В результате файл становится исполняемым для всех пользователей, но записывать его может только владелец.\n",
        "\n",
        "Путь \"./$file\" означает, что изменяемые права относятся к файлу, находящемуся в текущей директории.\n",
        "\n",
        "sudo cp \"$file\" /usr/local/bin/:\n",
        "Команда cp копирует файл в указанное место.\n",
        "В данном случае файл копируется в системный каталог /usr/local/bin/, который обычно используется для хранения исполняемых программ, доступных для всех пользователей системы.\n",
        "sudo используется для выполнения команды с правами администратора (так как обычный пользователь не имеет прав записи в /usr/local/bin/).\n"
      ],
      "metadata": {
        "id": "vc6AoFPlp0Ln"
      }
    },
    {
      "cell_type": "markdown",
      "source": [
        "Задание №6"
      ],
      "metadata": {
        "id": "pgRpDmezaLGM"
      }
    },
    {
      "cell_type": "code",
      "source": [],
      "metadata": {
        "id": "KZnf4JYhaNvf"
      },
      "execution_count": null,
      "outputs": []
    },
    {
      "cell_type": "markdown",
      "source": [
        "Задание №7"
      ],
      "metadata": {
        "id": "SxvP-BAuaOHU"
      }
    },
    {
      "cell_type": "code",
      "source": [],
      "metadata": {
        "id": "jGru4t2HaPV_"
      },
      "execution_count": null,
      "outputs": []
    },
    {
      "cell_type": "markdown",
      "source": [
        "Задание №8"
      ],
      "metadata": {
        "id": "XpphrSSWaP_x"
      }
    },
    {
      "cell_type": "code",
      "source": [],
      "metadata": {
        "id": "XgeVxkEyaRg_"
      },
      "execution_count": null,
      "outputs": []
    },
    {
      "cell_type": "markdown",
      "source": [
        "Задание №9"
      ],
      "metadata": {
        "id": "r9DldqwyaSJP"
      }
    },
    {
      "cell_type": "code",
      "source": [],
      "metadata": {
        "id": "2AnxmN40aT3g"
      },
      "execution_count": null,
      "outputs": []
    },
    {
      "cell_type": "markdown",
      "source": [
        "Задание №10"
      ],
      "metadata": {
        "id": "KQbzzFJLaUQI"
      }
    },
    {
      "cell_type": "code",
      "source": [],
      "metadata": {
        "id": "y6f1PS6BaV7W"
      },
      "execution_count": null,
      "outputs": []
    }
  ]
}